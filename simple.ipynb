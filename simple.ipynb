{
 "cells": [
  {
   "metadata": {},
   "cell_type": "markdown",
   "source": "# Kaggle House Prices competition",
   "id": "7dcc619f173b5575"
  },
  {
   "metadata": {},
   "cell_type": "markdown",
   "source": "## Libraries import",
   "id": "41693ba31e0406e"
  },
  {
   "metadata": {
    "ExecuteTime": {
     "end_time": "2024-06-09T12:54:50.082473Z",
     "start_time": "2024-06-09T12:54:50.080375Z"
    }
   },
   "cell_type": "code",
   "source": [
    "import pandas as pd\n",
    "from sklearn.compose import ColumnTransformer\n",
    "from sklearn.ensemble import RandomForestRegressor\n",
    "from sklearn.metrics import mean_absolute_error\n",
    "from sklearn.model_selection import train_test_split, RandomizedSearchCV\n",
    "from sklearn.pipeline import Pipeline\n",
    "from sklearn.impute import SimpleImputer\n",
    "from sklearn.preprocessing import OneHotEncoder\n",
    "from xgboost import XGBRegressor\n",
    "import matplotlib.pyplot as plt"
   ],
   "id": "fceb81de80d5d64c",
   "outputs": [],
   "execution_count": 34
  },
  {
   "metadata": {},
   "cell_type": "markdown",
   "source": "## Preprocessing data and model fit",
   "id": "b99f9456a6cddd56"
  },
  {
   "metadata": {
    "ExecuteTime": {
     "end_time": "2024-06-09T12:54:50.085189Z",
     "start_time": "2024-06-09T12:54:50.083177Z"
    }
   },
   "cell_type": "code",
   "source": "available_models = {}",
   "id": "b85dec2b6dc7b307",
   "outputs": [],
   "execution_count": 35
  },
  {
   "metadata": {},
   "cell_type": "markdown",
   "source": "### Import and preprocess data",
   "id": "c1ee0876361644d"
  },
  {
   "metadata": {
    "ExecuteTime": {
     "end_time": "2024-06-09T12:54:50.105326Z",
     "start_time": "2024-06-09T12:54:50.087800Z"
    }
   },
   "cell_type": "code",
   "source": [
    "train_data = pd.read_csv(\"data/train.csv\")\n",
    "X = train_data.drop('SalePrice', axis=1)\n",
    "y = train_data['SalePrice']\n",
    "\n",
    "columns_to_drop = ['Alley', 'Utilities', 'MasVnrType', 'FireplaceQu', 'PoolQC', 'Fence', 'MiscFeature']\n",
    "cat_columns_to_replace = ['BsmtQual', 'BsmtCond', 'BsmtExposure', 'GarageType', 'GarageQual', 'GarageCond']\n",
    "\n",
    "X = X.drop(columns_to_drop, axis=1)\n",
    "\n",
    "\n",
    "X_train, X_valid, y_train, y_valid = train_test_split(X, y, test_size=0.2, random_state=42)\n",
    "\n",
    "numerical_transformer = SimpleImputer(strategy='constant')\n",
    "\n",
    "categorical_transformer =Pipeline(steps=[\n",
    "    ('imputer',SimpleImputer(strategy='most_frequent')),\n",
    "    ('onehot',OneHotEncoder(handle_unknown='ignore'))\n",
    "])\n",
    "\n",
    "numerical_cols = [col for col in X_train.columns if X_train[col].dtype != 'object']\n",
    "X[numerical_cols] = X[numerical_cols].fillna(X[numerical_cols].mean())\n",
    "\n",
    "categorical_cols = [col for col in X_train.columns if X_train[col].dtype == 'object']\n",
    "X[cat_columns_to_replace] = X[cat_columns_to_replace].fillna(X[cat_columns_to_replace].mode().iloc[0])\n",
    "\n",
    "\n",
    "datapreprocessor = ColumnTransformer(\n",
    "    transformers=[\n",
    "        ('num',numerical_transformer,numerical_cols),\n",
    "        ('cat',categorical_transformer,categorical_cols)\n",
    "    ])"
   ],
   "id": "7a1dcd8a5d3ffe2a",
   "outputs": [],
   "execution_count": 36
  },
  {
   "metadata": {},
   "cell_type": "markdown",
   "source": [
    "### Model 1. Random Forest\n",
    "\n",
    "Finding best parameters"
   ],
   "id": "740afc3eb0003155"
  },
  {
   "metadata": {
    "ExecuteTime": {
     "end_time": "2024-06-09T12:54:50.107799Z",
     "start_time": "2024-06-09T12:54:50.105929Z"
    }
   },
   "cell_type": "code",
   "source": [
    "# forest_model = RandomForestRegressor()\n",
    "# forest_pipeline = Pipeline(steps=[('preprocessor', datapreprocessor),\n",
    "#                               ('model', forest_model)])\n",
    "# \n",
    "# forest_param_grid = {\n",
    "#     'model__n_estimators': [50, 100, 500, 1000],  \n",
    "#     'model__max_depth': [None, 3, 5, 10],     \n",
    "#     'model__min_samples_split': [2, 5, 10],\n",
    "#     'model__min_samples_leaf': [1, 2, 4] \n",
    "# }\n",
    "# \n",
    "# random_search = RandomizedSearchCV(\n",
    "#     estimator=forest_pipeline,\n",
    "#     param_distributions=forest_param_grid,\n",
    "#     n_iter=10,\n",
    "#     scoring='neg_mean_squared_error',\n",
    "#     cv=3,\n",
    "#     verbose=1,\n",
    "#     random_state=42,\n",
    "#     n_jobs=-1\n",
    "# )\n",
    "# \n",
    "# grid_search.fit(X_train, y_train)\n",
    "# \n",
    "# print(\"Best parameters:\", grid_search.best_params_)\n",
    "# print(\"Best score:\", grid_search.best_score_)"
   ],
   "id": "7fe9892057040a66",
   "outputs": [],
   "execution_count": 37
  },
  {
   "metadata": {},
   "cell_type": "markdown",
   "source": "Fitting model with best parameters",
   "id": "8241eb1197d4de3d"
  },
  {
   "metadata": {
    "ExecuteTime": {
     "end_time": "2024-06-09T12:54:53.617888Z",
     "start_time": "2024-06-09T12:54:50.108713Z"
    }
   },
   "cell_type": "code",
   "source": [
    "model = RandomForestRegressor(n_estimators=1000, random_state=42, max_depth=3)\n",
    "\n",
    "my_pipeline = Pipeline(steps=[('preprocessor', datapreprocessor),\n",
    "                              ('model', model)\n",
    "                              ])\n",
    "\n",
    "my_pipeline.fit(X_train, y_train)\n",
    "\n",
    "preds = my_pipeline.predict(X_valid)\n",
    "\n",
    "mae = mean_absolute_error(preds, y_valid)\n",
    "print(f\"Mean Absolute Error: {mae}\")\n",
    "\n",
    "available_models[\"Random Forest\"] = mae"
   ],
   "id": "875449b95ed12439",
   "outputs": [
    {
     "name": "stdout",
     "output_type": "stream",
     "text": [
      "Mean Absolute Error: 25835.637409363142\n"
     ]
    }
   ],
   "execution_count": 38
  },
  {
   "metadata": {},
   "cell_type": "markdown",
   "source": [
    "### Model 2. XGBoost\n",
    "\n",
    "Finding best parameters"
   ],
   "id": "19dd46557fb320b0"
  },
  {
   "metadata": {
    "ExecuteTime": {
     "end_time": "2024-06-09T12:54:53.620046Z",
     "start_time": "2024-06-09T12:54:53.618454Z"
    }
   },
   "cell_type": "code",
   "source": [
    "# xgb_model = XGBRegressor()\n",
    "# xgb_pipeline = Pipeline(steps=[('preprocessor', datapreprocessor),\n",
    "#                               ('model', xgb_model)])\n",
    "# \n",
    "# xgb_param_grid = {\n",
    "#     'model__n_estimators': [500, 1000],\n",
    "#     'model__max_depth': [3, 5],\n",
    "#     'model__learning_rate': [0.05, 0.1]\n",
    "# }\n",
    "# \n",
    "# random_search = RandomizedSearchCV(\n",
    "#     estimator=xgb_pipeline,\n",
    "#     param_distributions=xgb_param_grid,\n",
    "#     n_iter=10, \n",
    "#     scoring='neg_mean_squared_error',\n",
    "#     cv=3,\n",
    "#     verbose=1,\n",
    "#     random_state=42,\n",
    "#     n_jobs=-1\n",
    "# )\n",
    "# \n",
    "# grid_search.fit(X_train, y_train)\n",
    "# \n",
    "# print(\"Best parameters:\", grid_search.best_params_)\n",
    "# print(\"Best score:\", grid_search.best_score_)"
   ],
   "id": "d2ae94acc6adcbe4",
   "outputs": [],
   "execution_count": 39
  },
  {
   "metadata": {},
   "cell_type": "markdown",
   "source": "Fitting model with best parameters",
   "id": "9e564a2d295aef8e"
  },
  {
   "metadata": {
    "ExecuteTime": {
     "end_time": "2024-06-09T12:54:54.026065Z",
     "start_time": "2024-06-09T12:54:53.620581Z"
    }
   },
   "cell_type": "code",
   "source": [
    "xgb_model = XGBRegressor(n_estimators=1000, learning_rate=0.05, n_jobs=4, max_depth=3)\n",
    "xgb_pipeline = Pipeline(steps=[('preprocessor', datapreprocessor), ('model', xgb_model)])\n",
    "\n",
    "xgb_pipeline.fit(X_train, y_train)\n",
    "\n",
    "xgb_preds = xgb_pipeline.predict(X_valid)\n",
    "\n",
    "xgb_mae = mean_absolute_error(xgb_preds, y_valid)\n",
    "print(f\"Mean Absolute Error: {xgb_mae}\")\n",
    "\n",
    "available_models[\"XGBoost\"] = xgb_mae"
   ],
   "id": "e8e4728b4dd4af87",
   "outputs": [
    {
     "name": "stdout",
     "output_type": "stream",
     "text": [
      "Mean Absolute Error: 15832.268273758562\n"
     ]
    }
   ],
   "execution_count": 40
  },
  {
   "metadata": {},
   "cell_type": "markdown",
   "source": "## Graphic. Which model has the best mae? Smaller - better",
   "id": "bf9bfa2cf859b010"
  },
  {
   "metadata": {
    "ExecuteTime": {
     "end_time": "2024-06-09T12:54:54.075629Z",
     "start_time": "2024-06-09T12:54:54.027165Z"
    }
   },
   "cell_type": "code",
   "source": [
    "models = list(available_models.keys())\n",
    "mae_values = list(available_models.values())\n",
    "\n",
    "\n",
    "plt.figure(figsize=(10, 5)) \n",
    "plt.bar(models, mae_values) \n",
    "\n",
    "plt.title('Comparison of Model Performance by MAE')\n",
    "plt.xlabel('Model')\n",
    "plt.ylabel('Mean Absolute Error')\n",
    "plt.ylim(0, max(mae_values) + 5000)  \n",
    "\n",
    "plt.show()"
   ],
   "id": "5e592134b98bff1c",
   "outputs": [
    {
     "data": {
      "text/plain": [
       "<Figure size 1000x500 with 1 Axes>"
      ],
      "image/png": "[encoded data removed]"
     },
     "metadata": {},
     "output_type": "display_data"
    }
   ],
   "execution_count": 41
  },
  {
   "metadata": {},
   "cell_type": "markdown",
   "source": "## Final model and submission.csv generation",
   "id": "b33a2c148f4e81ff"
  },
  {
   "metadata": {
    "ExecuteTime": {
     "end_time": "2024-06-09T12:54:54.105133Z",
     "start_time": "2024-06-09T12:54:54.076696Z"
    }
   },
   "cell_type": "code",
   "source": [
    "test_data = pd.read_csv(\"data/test.csv\")\n",
    "\n",
    "final_preds = xgb_pipeline.predict(test_data)\n",
    "\n",
    "output = pd.DataFrame({'Id': test_data.Id,\n",
    "                       'SalePrice': final_preds})\n",
    "output.to_csv('submission.csv', index=False)"
   ],
   "id": "dbd2d068a62e6445",
   "outputs": [],
   "execution_count": 42
  }
 ],
 "metadata": {
  "kernelspec": {
   "display_name": "Python 3",
   "language": "python",
   "name": "python3"
  },
  "language_info": {
   "codemirror_mode": {
    "name": "ipython",
    "version": 2
   },
   "file_extension": ".py",
   "mimetype": "text/x-python",
   "name": "python",
   "nbconvert_exporter": "python",
   "pygments_lexer": "ipython2",
   "version": "2.7.6"
  }
 },
 "nbformat": 4,
 "nbformat_minor": 5
}
